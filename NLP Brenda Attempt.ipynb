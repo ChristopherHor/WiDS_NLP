{
 "cells": [
  {
   "cell_type": "code",
   "execution_count": 16,
   "metadata": {},
   "outputs": [],
   "source": [
    "import pandas as pd\n",
    "import numpy as np\n",
    "import matplotlib.pyplot as plt\n",
    "import seaborn as sns\n",
    "import scipy.stats as stats\n",
    "import nltk\n",
    "\n",
    "from sklearn import metrics\n",
    "from sklearn.metrics import accuracy_score\n",
    "\n",
    "from sklearn.tree import DecisionTreeClassifier\n",
    "from sklearn.model_selection import train_test_split, cross_val_score, KFold, GridSearchCV\n",
    "from sklearn.ensemble import BaggingClassifier, RandomForestClassifier\n",
    "from sklearn.neighbors import KNeighborsClassifier\n",
    "from sklearn.preprocessing import StandardScaler\n",
    "from sklearn.feature_extraction.text import CountVectorizer, TfidfVectorizer\n",
    "from sklearn.naive_bayes import MultinomialNB  \n",
    "from sklearn.linear_model import LogisticRegression\n",
    "\n",
    "from textblob import TextBlob, Word\n",
    "from sklearn.svm import SVC\n",
    "plt.style.use(\"fivethirtyeight\")"
   ]
  },
  {
   "cell_type": "code",
   "execution_count": 20,
   "metadata": {},
   "outputs": [
    {
     "data": {
      "text/html": [
       "<div>\n",
       "<style scoped>\n",
       "    .dataframe tbody tr th:only-of-type {\n",
       "        vertical-align: middle;\n",
       "    }\n",
       "\n",
       "    .dataframe tbody tr th {\n",
       "        vertical-align: top;\n",
       "    }\n",
       "\n",
       "    .dataframe thead th {\n",
       "        text-align: right;\n",
       "    }\n",
       "</style>\n",
       "<table border=\"1\" class=\"dataframe\">\n",
       "  <thead>\n",
       "    <tr style=\"text-align: right;\">\n",
       "      <th></th>\n",
       "      <th>Source</th>\n",
       "      <th>Title</th>\n",
       "      <th>Abstract</th>\n",
       "      <th>Journal</th>\n",
       "      <th>Author</th>\n",
       "      <th>Date</th>\n",
       "      <th>Keyword</th>\n",
       "      <th>Keyword2</th>\n",
       "      <th>Keyword3</th>\n",
       "      <th>Keyword4</th>\n",
       "      <th>Keyword5</th>\n",
       "      <th>General</th>\n",
       "      <th>Citation</th>\n",
       "      <th>Field</th>\n",
       "      <th>Search Term</th>\n",
       "    </tr>\n",
       "  </thead>\n",
       "  <tbody>\n",
       "    <tr>\n",
       "      <td>0</td>\n",
       "      <td>https://www.semanticscholar.org/paper/Space-ch...</td>\n",
       "      <td>Space-charge limited photocurrent.</td>\n",
       "      <td>\":\"In 1971 Goodman and Rose predicted the occu...</td>\n",
       "      <td>Physical review letters</td>\n",
       "      <td>Valentin D. Mihailetchi and Jurjen Wildeman an...</td>\n",
       "      <td>2005</td>\n",
       "      <td>Fullerenes</td>\n",
       "      <td>Immunostimulating conjugate (antigen)</td>\n",
       "      <td>Switch Device Component</td>\n",
       "      <td>Semiconductors</td>\n",
       "      <td>light intensity</td>\n",
       "      <td>{\"@context\":\"http://schema.org\",\"@graph\":[{\"@t...</td>\n",
       "      <td>@article{Mihailetchi2005SpacechargeLP,  title=...</td>\n",
       "      <td>Physics</td>\n",
       "      <td>Space</td>\n",
       "    </tr>\n",
       "    <tr>\n",
       "      <td>1</td>\n",
       "      <td>https://www.semanticscholar.org/paper/Separabl...</td>\n",
       "      <td>Separable dual-space Gaussian pseudopotentials.</td>\n",
       "      <td>\":\"We present pseudopotential coefficients for...</td>\n",
       "      <td>Physical review. B, Condensed matter</td>\n",
       "      <td>Goedecker and Teter and Hutter</td>\n",
       "      <td>1996</td>\n",
       "      <td>Dual</td>\n",
       "      <td>Normal Statistical Distribution</td>\n",
       "      <td>Multiplication</td>\n",
       "      <td>NaN</td>\n",
       "      <td>NaN</td>\n",
       "      <td>{\"@context\":\"http://schema.org\",\"@graph\":[{\"@t...</td>\n",
       "      <td>@article{Goedecker1996SeparableDG,  title={Sep...</td>\n",
       "      <td>Physics</td>\n",
       "      <td>Space</td>\n",
       "    </tr>\n",
       "    <tr>\n",
       "      <td>2</td>\n",
       "      <td>https://www.semanticscholar.org/paper/Canonica...</td>\n",
       "      <td>Canonical dynamics: Equilibrium phase-space di...</td>\n",
       "      <td>\":\"Nose has modified Newtonian dynamics so as ...</td>\n",
       "      <td>Physical review. A, General physics</td>\n",
       "      <td>Hoover</td>\n",
       "      <td>1985</td>\n",
       "      <td>Normal Statistical Distribution</td>\n",
       "      <td>Friction</td>\n",
       "      <td>CNS disorder</td>\n",
       "      <td>Test scaling</td>\n",
       "      <td>NaN</td>\n",
       "      <td>{\"@context\":\"http://schema.org\",\"@graph\":[{\"@t...</td>\n",
       "      <td>@article{Hoover1985CanonicalDE,  title={Canoni...</td>\n",
       "      <td>Physics</td>\n",
       "      <td>Space</td>\n",
       "    </tr>\n",
       "    <tr>\n",
       "      <td>3</td>\n",
       "      <td>https://www.semanticscholar.org/paper/Flat-spa...</td>\n",
       "      <td>Flat-space chiral gravity.</td>\n",
       "      <td>\":\"We provide the first evidence for a hologra...</td>\n",
       "      <td>Physical review letters</td>\n",
       "      <td>Arjun Bagchi and St{\\'e}phane Detournay and Da...</td>\n",
       "      <td>2012</td>\n",
       "      <td>Holographic principle</td>\n",
       "      <td>Quantum field theory</td>\n",
       "      <td>Calcifying Fibrous Pseudotumor</td>\n",
       "      <td>Hornbostelâ€“Sachs</td>\n",
       "      <td>Battery management system</td>\n",
       "      <td>{\"@context\":\"http://schema.org\",\"@graph\":[{\"@t...</td>\n",
       "      <td>@article{Bagchi2012FlatspaceCG,  title={Flat-s...</td>\n",
       "      <td>Physics</td>\n",
       "      <td>Space</td>\n",
       "    </tr>\n",
       "    <tr>\n",
       "      <td>4</td>\n",
       "      <td>https://www.semanticscholar.org/paper/Polariza...</td>\n",
       "      <td>Polarization demultiplexing in Stokes space.</td>\n",
       "      <td>\":\"A technique is demonstrated for polarizatio...</td>\n",
       "      <td>Optics express</td>\n",
       "      <td>Bogdan Szafraniec and Bernd Nebendahl and Todd...</td>\n",
       "      <td>2010</td>\n",
       "      <td>chaperone-mediated autophagy</td>\n",
       "      <td>algorithm</td>\n",
       "      <td>Fiber Optic Cables</td>\n",
       "      <td>NaN</td>\n",
       "      <td>NaN</td>\n",
       "      <td>{\"@context\":\"http://schema.org\",\"@graph\":[{\"@t...</td>\n",
       "      <td>@article{Szafraniec2010PolarizationDI,  title=...</td>\n",
       "      <td>Physics</td>\n",
       "      <td>Space</td>\n",
       "    </tr>\n",
       "  </tbody>\n",
       "</table>\n",
       "</div>"
      ],
      "text/plain": [
       "                                              Source  \\\n",
       "0  https://www.semanticscholar.org/paper/Space-ch...   \n",
       "1  https://www.semanticscholar.org/paper/Separabl...   \n",
       "2  https://www.semanticscholar.org/paper/Canonica...   \n",
       "3  https://www.semanticscholar.org/paper/Flat-spa...   \n",
       "4  https://www.semanticscholar.org/paper/Polariza...   \n",
       "\n",
       "                                               Title  \\\n",
       "0                 Space-charge limited photocurrent.   \n",
       "1    Separable dual-space Gaussian pseudopotentials.   \n",
       "2  Canonical dynamics: Equilibrium phase-space di...   \n",
       "3                         Flat-space chiral gravity.   \n",
       "4       Polarization demultiplexing in Stokes space.   \n",
       "\n",
       "                                            Abstract  \\\n",
       "0  \":\"In 1971 Goodman and Rose predicted the occu...   \n",
       "1  \":\"We present pseudopotential coefficients for...   \n",
       "2  \":\"Nose has modified Newtonian dynamics so as ...   \n",
       "3  \":\"We provide the first evidence for a hologra...   \n",
       "4  \":\"A technique is demonstrated for polarizatio...   \n",
       "\n",
       "                                Journal  \\\n",
       "0               Physical review letters   \n",
       "1  Physical review. B, Condensed matter   \n",
       "2   Physical review. A, General physics   \n",
       "3               Physical review letters   \n",
       "4                        Optics express   \n",
       "\n",
       "                                              Author  Date  \\\n",
       "0  Valentin D. Mihailetchi and Jurjen Wildeman an...  2005   \n",
       "1                     Goedecker and Teter and Hutter  1996   \n",
       "2                                             Hoover  1985   \n",
       "3  Arjun Bagchi and St{\\'e}phane Detournay and Da...  2012   \n",
       "4  Bogdan Szafraniec and Bernd Nebendahl and Todd...  2010   \n",
       "\n",
       "                           Keyword                               Keyword2  \\\n",
       "0                       Fullerenes  Immunostimulating conjugate (antigen)   \n",
       "1                             Dual        Normal Statistical Distribution   \n",
       "2  Normal Statistical Distribution                               Friction   \n",
       "3            Holographic principle                   Quantum field theory   \n",
       "4     chaperone-mediated autophagy                              algorithm   \n",
       "\n",
       "                         Keyword3            Keyword4  \\\n",
       "0         Switch Device Component      Semiconductors   \n",
       "1                  Multiplication                 NaN   \n",
       "2                    CNS disorder        Test scaling   \n",
       "3  Calcifying Fibrous Pseudotumor  Hornbostelâ€“Sachs   \n",
       "4              Fiber Optic Cables                 NaN   \n",
       "\n",
       "                    Keyword5  \\\n",
       "0            light intensity   \n",
       "1                        NaN   \n",
       "2                        NaN   \n",
       "3  Battery management system   \n",
       "4                        NaN   \n",
       "\n",
       "                                             General  \\\n",
       "0  {\"@context\":\"http://schema.org\",\"@graph\":[{\"@t...   \n",
       "1  {\"@context\":\"http://schema.org\",\"@graph\":[{\"@t...   \n",
       "2  {\"@context\":\"http://schema.org\",\"@graph\":[{\"@t...   \n",
       "3  {\"@context\":\"http://schema.org\",\"@graph\":[{\"@t...   \n",
       "4  {\"@context\":\"http://schema.org\",\"@graph\":[{\"@t...   \n",
       "\n",
       "                                            Citation    Field Search Term  \n",
       "0  @article{Mihailetchi2005SpacechargeLP,  title=...  Physics       Space  \n",
       "1  @article{Goedecker1996SeparableDG,  title={Sep...  Physics       Space  \n",
       "2  @article{Hoover1985CanonicalDE,  title={Canoni...  Physics       Space  \n",
       "3  @article{Bagchi2012FlatspaceCG,  title={Flat-s...  Physics       Space  \n",
       "4  @article{Szafraniec2010PolarizationDI,  title=...  Physics       Space  "
      ]
     },
     "execution_count": 20,
     "metadata": {},
     "output_type": "execute_result"
    }
   ],
   "source": [
    "papers = pd.read_excel('Paper_dataCompiled.xlsx')\n",
    "papers.head()"
   ]
  },
  {
   "cell_type": "code",
   "execution_count": 22,
   "metadata": {},
   "outputs": [
    {
     "name": "stdout",
     "output_type": "stream",
     "text": [
      "<class 'pandas.core.frame.DataFrame'>\n",
      "RangeIndex: 2000 entries, 0 to 1999\n",
      "Data columns (total 15 columns):\n",
      "Source         2000 non-null object\n",
      "Title          1990 non-null object\n",
      "Abstract       2000 non-null object\n",
      "Journal        1756 non-null object\n",
      "Author         2000 non-null object\n",
      "Date           2000 non-null object\n",
      "Keyword        1852 non-null object\n",
      "Keyword2       1626 non-null object\n",
      "Keyword3       1368 non-null object\n",
      "Keyword4       1123 non-null object\n",
      "Keyword5       896 non-null object\n",
      "General        2000 non-null object\n",
      "Citation       2000 non-null object\n",
      "Field          2000 non-null object\n",
      "Search Term    2000 non-null object\n",
      "dtypes: object(15)\n",
      "memory usage: 117.2+ KB\n"
     ]
    }
   ],
   "source": [
    "papers.info()"
   ]
  },
  {
   "cell_type": "code",
   "execution_count": 24,
   "metadata": {},
   "outputs": [
    {
     "data": {
      "image/png": "[encoded data removed]",
      "text/plain": [
       "<Figure size 432x288 with 1 Axes>"
      ]
     },
     "metadata": {},
     "output_type": "display_data"
    }
   ],
   "source": [
    "# Sentiment\n",
    "def detect_sentiment(text):\n",
    "    return TextBlob(text).sentiment.polarity\n",
    "\n",
    "papers[\"Sentiment\"] = papers[\"Abstract\"].apply(detect_sentiment)\n",
    "\n",
    "ax= papers.boxplot(column=\"Sentiment\", by=\"Field\")\n",
    "ax.set_title(\"Sentiment\", fontsize=21, y=1.1);"
   ]
  },
  {
   "cell_type": "code",
   "execution_count": 26,
   "metadata": {},
   "outputs": [
    {
     "data": {
      "text/plain": [
       "Physics              0.25\n",
       "Political Science    0.25\n",
       "Art                  0.25\n",
       "Medicine             0.25\n",
       "Name: Field, dtype: float64"
      ]
     },
     "execution_count": 26,
     "metadata": {},
     "output_type": "execute_result"
    }
   ],
   "source": [
    "papers[\"Field\"].value_counts(normalize=True)\n",
    "\n",
    "# So null model would be correct 25% of the time"
   ]
  },
  {
   "cell_type": "code",
   "execution_count": 30,
   "metadata": {},
   "outputs": [],
   "source": [
    "X_train, X_test, y_train, y_test = train_test_split(papers[\"Abstract\"], papers[\"Field\"])"
   ]
  },
  {
   "cell_type": "code",
   "execution_count": 32,
   "metadata": {},
   "outputs": [],
   "source": [
    "def auto_vect(vect):\n",
    "    X_train_dtm = vect.fit_transform(X_train)\n",
    "    X_test_dtm = vect.transform(X_test)\n",
    "    nb = MultinomialNB()\n",
    "    nb.fit(X_train_dtm, y_train)\n",
    "    y_pred_class_first = nb.predict(X_test_dtm)\n",
    "    print((metrics.accuracy_score(y_test, y_pred_class_first)))\n",
    "\n",
    "def make_lemmas(text):\n",
    "    text = str(text).lower()\n",
    "    words = TextBlob(text).words\n",
    "    return [word.lemmatize(pos=\"v\") for word in words]"
   ]
  },
  {
   "cell_type": "code",
   "execution_count": 37,
   "metadata": {},
   "outputs": [
    {
     "name": "stdout",
     "output_type": "stream",
     "text": [
      "0.932\n"
     ]
    }
   ],
   "source": [
    "vect = CountVectorizer(min_df=2, ngram_range=(1,4), stop_words=\"english\")\n",
    "auto_vect(vect)\n",
    "\n",
    "#So this is 93.2% accurate"
   ]
  },
  {
   "cell_type": "code",
   "execution_count": 39,
   "metadata": {},
   "outputs": [
    {
     "name": "stdout",
     "output_type": "stream",
     "text": [
      "0.932\n"
     ]
    }
   ],
   "source": [
    "X_train_dtm = vect.fit_transform(X_train)\n",
    "X_test_dtm = vect.transform(X_test)\n",
    "\n",
    "nb = MultinomialNB()\n",
    "nb.fit(X_train_dtm, y_train)\n",
    "\n",
    "# this will be our training prediction\n",
    "y_pred_class_first = nb.predict(X_test_dtm)\n",
    "\n",
    "# Calculate accuracy.\n",
    "print((metrics.accuracy_score(y_test, y_pred_class_first)))"
   ]
  },
  {
   "cell_type": "code",
   "execution_count": 43,
   "metadata": {},
   "outputs": [
    {
     "name": "stdout",
     "output_type": "stream",
     "text": [
      "['economically', 'economics', 'economics political', 'economics political science', 'economist', 'economy', 'economy emphasising', 'economy emphasising elements', 'economy emphasising elements fragmentation', 'ecosystem', 'ecran', 'ed', 'ed visits', 'edema', 'edge', 'edge research', 'edges', 'edges viewers', 'edges viewers gaze', 'edges viewers gaze image', 'edited', 'editing', 'edition', 'editor', 'editorial', 'editorial board', 'editors', 'eds', 'edu', 'educacion', 'educated', 'educating', 'education', 'education author', 'education curriculum', 'education games', 'education games 17', 'education games 17 injuries', 'education health', 'education including', 'education increasing', 'education level', 'education new', 'education oie', 'education policy', 'education practice', 'education research', 'education social', 'education training', 'educational']\n"
     ]
    }
   ],
   "source": [
    "print((vect.get_feature_names()[6000:6050]))"
   ]
  },
  {
   "cell_type": "code",
   "execution_count": null,
   "metadata": {},
   "outputs": [],
   "source": []
  },
  {
   "cell_type": "code",
   "execution_count": null,
   "metadata": {},
   "outputs": [],
   "source": []
  },
  {
   "cell_type": "code",
   "execution_count": 41,
   "metadata": {},
   "outputs": [],
   "source": [
    "#y_pred_class\n",
    "\n",
    "# print(metrics.accuracy_score(papers[\"Field\"], y_pred_class_first))"
   ]
  }
 ],
 "metadata": {
  "kernelspec": {
   "display_name": "Python 3",
   "language": "python",
   "name": "python3"
  },
  "language_info": {
   "codemirror_mode": {
    "name": "ipython",
    "version": 3
   },
   "file_extension": ".py",
   "mimetype": "text/x-python",
   "name": "python",
   "nbconvert_exporter": "python",
   "pygments_lexer": "ipython3",
   "version": "3.7.4"
  }
 },
 "nbformat": 4,
 "nbformat_minor": 2
}
