{
 "cells": [
  {
   "cell_type": "code",
   "execution_count": 1,
   "metadata": {},
   "outputs": [],
   "source": [
    "import pandas as pd\n",
    "import numpy as np\n",
    "import matplotlib.pyplot as plt\n",
    "import seaborn as sns\n",
    "import scipy.stats as stats\n",
    "import nltk\n",
    "\n",
    "from sklearn import metrics\n",
    "from sklearn.metrics import accuracy_score\n",
    "from sklearn.naive_bayes import GaussianNB\n",
    "\n",
    "from sklearn.tree import DecisionTreeClassifier\n",
    "from sklearn.model_selection import train_test_split, cross_val_score, KFold, GridSearchCV\n",
    "from sklearn.ensemble import BaggingClassifier, RandomForestClassifier\n",
    "from sklearn.neighbors import KNeighborsClassifier\n",
    "from sklearn.preprocessing import StandardScaler\n",
    "from sklearn.feature_extraction.text import CountVectorizer, TfidfVectorizer\n",
    "from sklearn.naive_bayes import MultinomialNB  \n",
    "from sklearn.linear_model import LogisticRegression\n",
    "\n",
    "from textblob import TextBlob, Word\n",
    "from sklearn.svm import SVC\n",
    "plt.style.use(\"fivethirtyeight\")"
   ]
  },
  {
   "cell_type": "code",
   "execution_count": 2,
   "metadata": {},
   "outputs": [
    {
     "data": {
      "text/html": [
       "<div>\n",
       "<style scoped>\n",
       "    .dataframe tbody tr th:only-of-type {\n",
       "        vertical-align: middle;\n",
       "    }\n",
       "\n",
       "    .dataframe tbody tr th {\n",
       "        vertical-align: top;\n",
       "    }\n",
       "\n",
       "    .dataframe thead th {\n",
       "        text-align: right;\n",
       "    }\n",
       "</style>\n",
       "<table border=\"1\" class=\"dataframe\">\n",
       "  <thead>\n",
       "    <tr style=\"text-align: right;\">\n",
       "      <th></th>\n",
       "      <th>Source</th>\n",
       "      <th>Title</th>\n",
       "      <th>Abstract</th>\n",
       "      <th>Journal</th>\n",
       "      <th>Author</th>\n",
       "      <th>Date</th>\n",
       "      <th>Keyword</th>\n",
       "      <th>Keyword2</th>\n",
       "      <th>Keyword3</th>\n",
       "      <th>Keyword4</th>\n",
       "      <th>Keyword5</th>\n",
       "      <th>General</th>\n",
       "      <th>Citation</th>\n",
       "      <th>Field</th>\n",
       "      <th>Search Term</th>\n",
       "    </tr>\n",
       "  </thead>\n",
       "  <tbody>\n",
       "    <tr>\n",
       "      <td>0</td>\n",
       "      <td>https://www.semanticscholar.org/paper/Space-ch...</td>\n",
       "      <td>Space-charge limited photocurrent.</td>\n",
       "      <td>\":\"In 1971 Goodman and Rose predicted the occu...</td>\n",
       "      <td>Physical review letters</td>\n",
       "      <td>Valentin D. Mihailetchi and Jurjen Wildeman an...</td>\n",
       "      <td>2005</td>\n",
       "      <td>Fullerenes</td>\n",
       "      <td>Immunostimulating conjugate (antigen)</td>\n",
       "      <td>Switch Device Component</td>\n",
       "      <td>Semiconductors</td>\n",
       "      <td>light intensity</td>\n",
       "      <td>{\"@context\":\"http://schema.org\",\"@graph\":[{\"@t...</td>\n",
       "      <td>@article{Mihailetchi2005SpacechargeLP,  title=...</td>\n",
       "      <td>Physics</td>\n",
       "      <td>Space</td>\n",
       "    </tr>\n",
       "    <tr>\n",
       "      <td>1</td>\n",
       "      <td>https://www.semanticscholar.org/paper/Separabl...</td>\n",
       "      <td>Separable dual-space Gaussian pseudopotentials.</td>\n",
       "      <td>\":\"We present pseudopotential coefficients for...</td>\n",
       "      <td>Physical review. B, Condensed matter</td>\n",
       "      <td>Goedecker and Teter and Hutter</td>\n",
       "      <td>1996</td>\n",
       "      <td>Dual</td>\n",
       "      <td>Normal Statistical Distribution</td>\n",
       "      <td>Multiplication</td>\n",
       "      <td>NaN</td>\n",
       "      <td>NaN</td>\n",
       "      <td>{\"@context\":\"http://schema.org\",\"@graph\":[{\"@t...</td>\n",
       "      <td>@article{Goedecker1996SeparableDG,  title={Sep...</td>\n",
       "      <td>Physics</td>\n",
       "      <td>Space</td>\n",
       "    </tr>\n",
       "    <tr>\n",
       "      <td>2</td>\n",
       "      <td>https://www.semanticscholar.org/paper/Canonica...</td>\n",
       "      <td>Canonical dynamics: Equilibrium phase-space di...</td>\n",
       "      <td>\":\"Nose has modified Newtonian dynamics so as ...</td>\n",
       "      <td>Physical review. A, General physics</td>\n",
       "      <td>Hoover</td>\n",
       "      <td>1985</td>\n",
       "      <td>Normal Statistical Distribution</td>\n",
       "      <td>Friction</td>\n",
       "      <td>CNS disorder</td>\n",
       "      <td>Test scaling</td>\n",
       "      <td>NaN</td>\n",
       "      <td>{\"@context\":\"http://schema.org\",\"@graph\":[{\"@t...</td>\n",
       "      <td>@article{Hoover1985CanonicalDE,  title={Canoni...</td>\n",
       "      <td>Physics</td>\n",
       "      <td>Space</td>\n",
       "    </tr>\n",
       "    <tr>\n",
       "      <td>3</td>\n",
       "      <td>https://www.semanticscholar.org/paper/Flat-spa...</td>\n",
       "      <td>Flat-space chiral gravity.</td>\n",
       "      <td>\":\"We provide the first evidence for a hologra...</td>\n",
       "      <td>Physical review letters</td>\n",
       "      <td>Arjun Bagchi and St{\\'e}phane Detournay and Da...</td>\n",
       "      <td>2012</td>\n",
       "      <td>Holographic principle</td>\n",
       "      <td>Quantum field theory</td>\n",
       "      <td>Calcifying Fibrous Pseudotumor</td>\n",
       "      <td>Hornbostelâ€“Sachs</td>\n",
       "      <td>Battery management system</td>\n",
       "      <td>{\"@context\":\"http://schema.org\",\"@graph\":[{\"@t...</td>\n",
       "      <td>@article{Bagchi2012FlatspaceCG,  title={Flat-s...</td>\n",
       "      <td>Physics</td>\n",
       "      <td>Space</td>\n",
       "    </tr>\n",
       "    <tr>\n",
       "      <td>4</td>\n",
       "      <td>https://www.semanticscholar.org/paper/Polariza...</td>\n",
       "      <td>Polarization demultiplexing in Stokes space.</td>\n",
       "      <td>\":\"A technique is demonstrated for polarizatio...</td>\n",
       "      <td>Optics express</td>\n",
       "      <td>Bogdan Szafraniec and Bernd Nebendahl and Todd...</td>\n",
       "      <td>2010</td>\n",
       "      <td>chaperone-mediated autophagy</td>\n",
       "      <td>algorithm</td>\n",
       "      <td>Fiber Optic Cables</td>\n",
       "      <td>NaN</td>\n",
       "      <td>NaN</td>\n",
       "      <td>{\"@context\":\"http://schema.org\",\"@graph\":[{\"@t...</td>\n",
       "      <td>@article{Szafraniec2010PolarizationDI,  title=...</td>\n",
       "      <td>Physics</td>\n",
       "      <td>Space</td>\n",
       "    </tr>\n",
       "  </tbody>\n",
       "</table>\n",
       "</div>"
      ],
      "text/plain": [
       "                                              Source  \\\n",
       "0  https://www.semanticscholar.org/paper/Space-ch...   \n",
       "1  https://www.semanticscholar.org/paper/Separabl...   \n",
       "2  https://www.semanticscholar.org/paper/Canonica...   \n",
       "3  https://www.semanticscholar.org/paper/Flat-spa...   \n",
       "4  https://www.semanticscholar.org/paper/Polariza...   \n",
       "\n",
       "                                               Title  \\\n",
       "0                 Space-charge limited photocurrent.   \n",
       "1    Separable dual-space Gaussian pseudopotentials.   \n",
       "2  Canonical dynamics: Equilibrium phase-space di...   \n",
       "3                         Flat-space chiral gravity.   \n",
       "4       Polarization demultiplexing in Stokes space.   \n",
       "\n",
       "                                            Abstract  \\\n",
       "0  \":\"In 1971 Goodman and Rose predicted the occu...   \n",
       "1  \":\"We present pseudopotential coefficients for...   \n",
       "2  \":\"Nose has modified Newtonian dynamics so as ...   \n",
       "3  \":\"We provide the first evidence for a hologra...   \n",
       "4  \":\"A technique is demonstrated for polarizatio...   \n",
       "\n",
       "                                Journal  \\\n",
       "0               Physical review letters   \n",
       "1  Physical review. B, Condensed matter   \n",
       "2   Physical review. A, General physics   \n",
       "3               Physical review letters   \n",
       "4                        Optics express   \n",
       "\n",
       "                                              Author  Date  \\\n",
       "0  Valentin D. Mihailetchi and Jurjen Wildeman an...  2005   \n",
       "1                     Goedecker and Teter and Hutter  1996   \n",
       "2                                             Hoover  1985   \n",
       "3  Arjun Bagchi and St{\\'e}phane Detournay and Da...  2012   \n",
       "4  Bogdan Szafraniec and Bernd Nebendahl and Todd...  2010   \n",
       "\n",
       "                           Keyword                               Keyword2  \\\n",
       "0                       Fullerenes  Immunostimulating conjugate (antigen)   \n",
       "1                             Dual        Normal Statistical Distribution   \n",
       "2  Normal Statistical Distribution                               Friction   \n",
       "3            Holographic principle                   Quantum field theory   \n",
       "4     chaperone-mediated autophagy                              algorithm   \n",
       "\n",
       "                         Keyword3            Keyword4  \\\n",
       "0         Switch Device Component      Semiconductors   \n",
       "1                  Multiplication                 NaN   \n",
       "2                    CNS disorder        Test scaling   \n",
       "3  Calcifying Fibrous Pseudotumor  Hornbostelâ€“Sachs   \n",
       "4              Fiber Optic Cables                 NaN   \n",
       "\n",
       "                    Keyword5  \\\n",
       "0            light intensity   \n",
       "1                        NaN   \n",
       "2                        NaN   \n",
       "3  Battery management system   \n",
       "4                        NaN   \n",
       "\n",
       "                                             General  \\\n",
       "0  {\"@context\":\"http://schema.org\",\"@graph\":[{\"@t...   \n",
       "1  {\"@context\":\"http://schema.org\",\"@graph\":[{\"@t...   \n",
       "2  {\"@context\":\"http://schema.org\",\"@graph\":[{\"@t...   \n",
       "3  {\"@context\":\"http://schema.org\",\"@graph\":[{\"@t...   \n",
       "4  {\"@context\":\"http://schema.org\",\"@graph\":[{\"@t...   \n",
       "\n",
       "                                            Citation    Field Search Term  \n",
       "0  @article{Mihailetchi2005SpacechargeLP,  title=...  Physics       Space  \n",
       "1  @article{Goedecker1996SeparableDG,  title={Sep...  Physics       Space  \n",
       "2  @article{Hoover1985CanonicalDE,  title={Canoni...  Physics       Space  \n",
       "3  @article{Bagchi2012FlatspaceCG,  title={Flat-s...  Physics       Space  \n",
       "4  @article{Szafraniec2010PolarizationDI,  title=...  Physics       Space  "
      ]
     },
     "execution_count": 2,
     "metadata": {},
     "output_type": "execute_result"
    }
   ],
   "source": [
    "papers = pd.read_excel('Paper_dataCompiled.xlsx')\n",
    "papers.head()"
   ]
  },
  {
   "cell_type": "code",
   "execution_count": 3,
   "metadata": {},
   "outputs": [
    {
     "name": "stdout",
     "output_type": "stream",
     "text": [
      "<class 'pandas.core.frame.DataFrame'>\n",
      "RangeIndex: 2000 entries, 0 to 1999\n",
      "Data columns (total 15 columns):\n",
      "Source         2000 non-null object\n",
      "Title          1990 non-null object\n",
      "Abstract       2000 non-null object\n",
      "Journal        1756 non-null object\n",
      "Author         2000 non-null object\n",
      "Date           2000 non-null object\n",
      "Keyword        1852 non-null object\n",
      "Keyword2       1626 non-null object\n",
      "Keyword3       1368 non-null object\n",
      "Keyword4       1123 non-null object\n",
      "Keyword5       896 non-null object\n",
      "General        2000 non-null object\n",
      "Citation       2000 non-null object\n",
      "Field          2000 non-null object\n",
      "Search Term    2000 non-null object\n",
      "dtypes: object(15)\n",
      "memory usage: 117.2+ KB\n"
     ]
    }
   ],
   "source": [
    "papers.info()"
   ]
  },
  {
   "cell_type": "code",
   "execution_count": 4,
   "metadata": {},
   "outputs": [
    {
     "data": {
      "image/png": "[encoded data removed]",
      "text/plain": [
       "<Figure size 432x288 with 1 Axes>"
      ]
     },
     "metadata": {
      "needs_background": "light"
     },
     "output_type": "display_data"
    }
   ],
   "source": [
    "# Sentiment\n",
    "def detect_sentiment(text):\n",
    "    return TextBlob(text).sentiment.polarity\n",
    "\n",
    "papers[\"Sentiment\"] = papers[\"Abstract\"].apply(detect_sentiment)\n",
    "\n",
    "ax= papers.boxplot(column=\"Sentiment\", by=\"Field\")\n",
    "ax.set_title(\"Sentiment\", fontsize=21, y=1.1);\n",
    "\n",
    "# Could try by sentence instead of by whole abstract."
   ]
  },
  {
   "cell_type": "code",
   "execution_count": 5,
   "metadata": {},
   "outputs": [
    {
     "data": {
      "text/plain": [
       "Physics              0.25\n",
       "Medicine             0.25\n",
       "Art                  0.25\n",
       "Political Science    0.25\n",
       "Name: Field, dtype: float64"
      ]
     },
     "execution_count": 5,
     "metadata": {},
     "output_type": "execute_result"
    }
   ],
   "source": [
    "papers[\"Field\"].value_counts(normalize=True)\n",
    "\n",
    "# So null model would be correct 25% of the time"
   ]
  },
  {
   "cell_type": "code",
   "execution_count": 6,
   "metadata": {},
   "outputs": [],
   "source": [
    "X_train, X_test, y_train, y_test = train_test_split(papers[\"Abstract\"], papers[\"Field\"])\n",
    "\n",
    "# Need to train test split by category\n",
    "\n",
    "\n",
    "#Fix split- shuffle\n",
    "#rs = StratifiedShuffleSplit(n_splits=1, random_state=24, test_size=0.25, train_size=None)\n",
    "#for train_index, test_index in rs.split(X,y):\n",
    "#    print(\"TRAIN:\", train_index, \"TEST:\", test_index)\n",
    "\n",
    "#If array works don't need this\n",
    "#X_traina = X.iloc[train_index,:]\n",
    "#X_testa =  X.iloc[test_index,:]\n",
    "#y_train = y[train_index]\n",
    "#y_test = y[test_index]\n",
    "#X_train1 = np.array(X_traina)\n",
    "#X_test1 = np.array(X_testa)"
   ]
  },
  {
   "cell_type": "code",
   "execution_count": 7,
   "metadata": {},
   "outputs": [
    {
     "data": {
      "text/plain": [
       "Text(0.5, 1.0, 'Field')"
      ]
     },
     "execution_count": 7,
     "metadata": {},
     "output_type": "execute_result"
    },
    {
     "data": {
      "image/png": "[encoded data removed]",
      "text/plain": [
       "<Figure size 432x288 with 1 Axes>"
      ]
     },
     "metadata": {},
     "output_type": "display_data"
    }
   ],
   "source": [
    "# Look at how even our split is\n",
    "plotTrain = pd.DataFrame(data=y_train)\n",
    "plotTrain[\"yTrain\"] = pd.DataFrame(data=y_train)\n",
    "\n",
    "plt.style.use(\"ggplot\")\n",
    "plotTrain.yTrain.value_counts().plot(kind=\"barh\")\n",
    "plt.title(\"Field\")\n",
    "\n",
    "# So about even, but we should still probably make the split exactly even."
   ]
  },
  {
   "cell_type": "code",
   "execution_count": 8,
   "metadata": {},
   "outputs": [],
   "source": [
    "def auto_vect(vect):\n",
    "    X_train_dtm = vect.fit_transform(X_train)\n",
    "    X_test_dtm = vect.transform(X_test)\n",
    "    nb = MultinomialNB()\n",
    "    nb.fit(X_train_dtm, y_train)\n",
    "    y_pred_class_first = nb.predict(X_test_dtm)\n",
    "    print((metrics.accuracy_score(y_test, y_pred_class_first)))\n",
    "\n",
    "def make_lemmas(text):\n",
    "    text = str(text).lower()\n",
    "    words = TextBlob(text).words\n",
    "    return [word.lemmatize(pos=\"v\") for word in words]"
   ]
  },
  {
   "cell_type": "code",
   "execution_count": 9,
   "metadata": {},
   "outputs": [
    {
     "name": "stdout",
     "output_type": "stream",
     "text": [
      "0.928\n"
     ]
    }
   ],
   "source": [
    "vect = CountVectorizer(min_df=2, ngram_range=(1,4), stop_words=\"english\")\n",
    "auto_vect(vect)\n",
    "\n",
    "#So this is 93.2% accurate\n",
    "# This changes accuracy each time based on random train/test/split, so it may be good to fix the split"
   ]
  },
  {
   "cell_type": "code",
   "execution_count": 10,
   "metadata": {},
   "outputs": [
    {
     "name": "stdout",
     "output_type": "stream",
     "text": [
      "0.928\n"
     ]
    }
   ],
   "source": [
    "X_train_dtm = vect.fit_transform(X_train)\n",
    "X_test_dtm = vect.transform(X_test)\n",
    "\n",
    "nb = MultinomialNB()\n",
    "nb.fit(X_train_dtm, y_train)\n",
    "\n",
    "# this will be our training prediction\n",
    "y_pred_class_first = nb.predict(X_test_dtm)\n",
    "\n",
    "# Calculate accuracy.\n",
    "print((metrics.accuracy_score(y_test, y_pred_class_first)))"
   ]
  },
  {
   "cell_type": "code",
   "execution_count": null,
   "metadata": {},
   "outputs": [],
   "source": [
    "gnb = GaussianNB()\n",
    "gnb.fit(X_train_dtm, y_train)\n",
    "\n",
    "# this will be our training prediction\n",
    "y_pred_class_second = gnb.predict(X_test_dtm)\n",
    "\n",
    "# Calculate accuracy.\n",
    "print((metrics.accuracy_score(y_test, y_pred_class_second)))"
   ]
  },
  {
   "cell_type": "code",
   "execution_count": null,
   "metadata": {},
   "outputs": [],
   "source": [
    "print((vect.get_feature_names()[6000:6050]))"
   ]
  },
  {
   "cell_type": "code",
   "execution_count": null,
   "metadata": {},
   "outputs": [],
   "source": [
    "# This is to show the relative fit of different methods\n",
    "\n",
    "def fit_roc(model, X_train, X_test, y_train, y_test):\n",
    "    model.fit(X_train, y_train)\n",
    "    y_pred = model.predict(X_test)\n",
    "    y_pred_proba = model.predict_proba(X_test)\n",
    "    score = round(model.score(X_test,y_test),2)\n",
    "    fpr, tpr, _ = roc_curve(y_test.ravel(), y_pred_proba[:,1])\n",
    "    roc_auc = auc(fpr, tpr)\n",
    "    return fpr, tpr, roc_auc,score\n",
    "sns.set_context(\"talk\")\n",
    "fig0 = plt.figure(figsize=(15,8));\n",
    "plt.plot([0, 1], [0, 1], lw=2, color = 'black' , linestyle='--')\n",
    "    \n",
    "fpr1, tpr1, roc_auc1, score1 = fit_roc(GaussianNB(), X_train_dtm, X_test_dtm, y_train, y_test)\n",
    "plt.plot(fpr1, tpr1, lw=2, color = 'brown', label='Gauss NB area=%0.2f,accuracy={}'.format(score1) % roc_auc1)\n",
    "    \n",
    "#fpr2, tpr2, roc_auc2, score2 = fit_roc(LogisticRegression(), X_train, X_test, y_train, y_test)\n",
    "#plt.plot(fpr2, tpr2, lw=2, color = 'darkviolet', label='Log Reg area=%0.2f,accuracy={}'.format(score1) % roc_auc2)\n",
    "\n",
    "#MultinomialNB()"
   ]
  },
  {
   "cell_type": "code",
   "execution_count": null,
   "metadata": {},
   "outputs": [],
   "source": [
    "#Show confusion matrix"
   ]
  },
  {
   "cell_type": "code",
   "execution_count": 11,
   "metadata": {},
   "outputs": [],
   "source": [
    "def plot_confusion_matrix(cm, classes,normalize=False,title='Confusion matrix', cmap=plt.cm.summer):\n",
    "    if normalize:\n",
    "        cm = cm.astype('float') / cm.sum(axis=1)[:, np.newaxis]\n",
    "    plt.imshow(cm, interpolation='nearest', cmap=cmap)\n",
    "    plt.title(title, fontsize=30)\n",
    "    plt.colorbar()\n",
    "    tick_marks = np.arange(len(classes))\n",
    "    plt.xticks(tick_marks, classes, fontsize=20)\n",
    "    plt.yticks(tick_marks, classes, fontsize=20)\n",
    "    \n",
    "    fmt = '.2f' if normalize else 'd'\n",
    "    thresh = cm.max() / 2.\n",
    "    for i, j in itertools.product(range(cm.shape[0]), range(cm.shape[1])):\n",
    "        plt.text(j, i, format(cm[i, j], fmt), horizontalalignment=\"center\", \n",
    "                 color=\"white\" if cm[i, j] < thresh else \"black\", fontsize=40)\n",
    "    \n",
    "    plt.tight_layout()\n",
    "    plt.ylabel('True label', fontsize=30)\n",
    "    plt.xlabel('Predicted label', fontsize=30)\n",
    "    \n",
    "    return plt\n"
   ]
  },
  {
   "cell_type": "code",
   "execution_count": 12,
   "metadata": {},
   "outputs": [],
   "source": [
    "def topic_mod_lda(data,topics=5,iters=10,ngram_min=1, ngram_max=3, max_df=0.6, max_feats=5000, random_state=42):\n",
    "    \n",
    "    \"\"\" use count vectorizer to turn words into numbers for each document(rows)\n",
    "    then use Latent Dirichlet Allocation to get topics\"\"\"\n",
    "    \n",
    "    vectorizer = CountVectorizer(ngram_range=(ngram_min,ngram_max), \n",
    "                             stop_words='english', \n",
    "                             max_df = max_df, \n",
    "                             max_features=max_feats)\n",
    "      \n",
    "    #  `fit (train), then transform` to convert text to a bag of words\n",
    "\n",
    "    vect_data = vectorizer.fit_transform(data)\n",
    "    \n",
    "    lda = LatentDirichletAllocation(n_components=topics,\n",
    "                                    max_iter=iters,\n",
    "                                    random_state=random_state,\n",
    "                                    learning_method='online',\n",
    "                                    n_jobs=-1)\n",
    "    \n",
    "    lda_data = lda.fit_transform(vect_data)\n",
    "    \n",
    "    # to display a list of topic words and their scores \n",
    "    def display_topics(model, feature_names, no_top_words):\n",
    "        for ix, topic in enumerate(model.components_):\n",
    "            print(\"Topic \", ix)\n",
    "            print(\" \".join([feature_names[i]\n",
    "                        for i in topic.argsort()[:-no_top_words - 1:-1]]))\n",
    "    \n",
    "    display_topics(lda, vectorizer.get_feature_names(),20)\n",
    "    \n",
    "    return vectorizer, vect_data, lda, lda_data"
   ]
  },
  {
   "cell_type": "code",
   "execution_count": null,
   "metadata": {},
   "outputs": [],
   "source": []
  },
  {
   "cell_type": "code",
   "execution_count": 16,
   "metadata": {},
   "outputs": [
    {
     "ename": "ValueError",
     "evalue": "could not convert string to float: '\":\"In 1971 Goodman and Rose predicted the occurrence of a fundamental electrostatic limit for the photocurrent in semiconductors at high light intensities. Blends of conjugated polymers and fullerenes are an ideal model system to observe this space-charge limit experimentally, since they combine an unbalanced charge transport, long lifetimes, high charge carrier generation efficiencies, and low mobility of the slowest charge carrier. The experimental photocurrents reveal all the characteristics of a space-charge limited photocurrent: a one-half power dependence on voltage, a three-quarter power dependence on light intensity, and a one-half power scaling of the voltage at which the photocurrent switches into full saturation with light intensity.\",\"author\":['",
     "output_type": "error",
     "traceback": [
      "\u001b[1;31m---------------------------------------------------------------------------\u001b[0m",
      "\u001b[1;31mValueError\u001b[0m                                Traceback (most recent call last)",
      "\u001b[1;32m<ipython-input-16-4cb90e573cdc>\u001b[0m in \u001b[0;36m<module>\u001b[1;34m\u001b[0m\n\u001b[0;32m      3\u001b[0m \u001b[1;33m\u001b[0m\u001b[0m\n\u001b[0;32m      4\u001b[0m \u001b[1;31m#nb.fit(papers[\"Abstract\"], papers[\"Field\"])\u001b[0m\u001b[1;33m\u001b[0m\u001b[1;33m\u001b[0m\u001b[1;33m\u001b[0m\u001b[0m\n\u001b[1;32m----> 5\u001b[1;33m \u001b[0mpred_class\u001b[0m \u001b[1;33m=\u001b[0m \u001b[0mnb\u001b[0m\u001b[1;33m.\u001b[0m\u001b[0mpredict\u001b[0m\u001b[1;33m(\u001b[0m\u001b[0mpapers\u001b[0m\u001b[1;33m[\u001b[0m\u001b[1;34m\"Abstract\"\u001b[0m\u001b[1;33m]\u001b[0m\u001b[1;33m)\u001b[0m\u001b[1;33m\u001b[0m\u001b[1;33m\u001b[0m\u001b[0m\n\u001b[0m\u001b[0;32m      6\u001b[0m \u001b[0mpred_class\u001b[0m\u001b[1;33m\u001b[0m\u001b[1;33m\u001b[0m\u001b[0m\n",
      "\u001b[1;32m~\\AppData\\Roaming\\Python\\Python37\\site-packages\\sklearn\\naive_bayes.py\u001b[0m in \u001b[0;36mpredict\u001b[1;34m(self, X)\u001b[0m\n\u001b[0;32m     63\u001b[0m             \u001b[0mPredicted\u001b[0m \u001b[0mtarget\u001b[0m \u001b[0mvalues\u001b[0m \u001b[1;32mfor\u001b[0m \u001b[0mX\u001b[0m\u001b[1;33m\u001b[0m\u001b[1;33m\u001b[0m\u001b[0m\n\u001b[0;32m     64\u001b[0m         \"\"\"\n\u001b[1;32m---> 65\u001b[1;33m         \u001b[0mjll\u001b[0m \u001b[1;33m=\u001b[0m \u001b[0mself\u001b[0m\u001b[1;33m.\u001b[0m\u001b[0m_joint_log_likelihood\u001b[0m\u001b[1;33m(\u001b[0m\u001b[0mX\u001b[0m\u001b[1;33m)\u001b[0m\u001b[1;33m\u001b[0m\u001b[1;33m\u001b[0m\u001b[0m\n\u001b[0m\u001b[0;32m     66\u001b[0m         \u001b[1;32mreturn\u001b[0m \u001b[0mself\u001b[0m\u001b[1;33m.\u001b[0m\u001b[0mclasses_\u001b[0m\u001b[1;33m[\u001b[0m\u001b[0mnp\u001b[0m\u001b[1;33m.\u001b[0m\u001b[0margmax\u001b[0m\u001b[1;33m(\u001b[0m\u001b[0mjll\u001b[0m\u001b[1;33m,\u001b[0m \u001b[0maxis\u001b[0m\u001b[1;33m=\u001b[0m\u001b[1;36m1\u001b[0m\u001b[1;33m)\u001b[0m\u001b[1;33m]\u001b[0m\u001b[1;33m\u001b[0m\u001b[1;33m\u001b[0m\u001b[0m\n\u001b[0;32m     67\u001b[0m \u001b[1;33m\u001b[0m\u001b[0m\n",
      "\u001b[1;32m~\\AppData\\Roaming\\Python\\Python37\\site-packages\\sklearn\\naive_bayes.py\u001b[0m in \u001b[0;36m_joint_log_likelihood\u001b[1;34m(self, X)\u001b[0m\n\u001b[0;32m    734\u001b[0m         \u001b[0mcheck_is_fitted\u001b[0m\u001b[1;33m(\u001b[0m\u001b[0mself\u001b[0m\u001b[1;33m,\u001b[0m \u001b[1;34m\"classes_\"\u001b[0m\u001b[1;33m)\u001b[0m\u001b[1;33m\u001b[0m\u001b[1;33m\u001b[0m\u001b[0m\n\u001b[0;32m    735\u001b[0m \u001b[1;33m\u001b[0m\u001b[0m\n\u001b[1;32m--> 736\u001b[1;33m         \u001b[0mX\u001b[0m \u001b[1;33m=\u001b[0m \u001b[0mcheck_array\u001b[0m\u001b[1;33m(\u001b[0m\u001b[0mX\u001b[0m\u001b[1;33m,\u001b[0m \u001b[0maccept_sparse\u001b[0m\u001b[1;33m=\u001b[0m\u001b[1;34m'csr'\u001b[0m\u001b[1;33m)\u001b[0m\u001b[1;33m\u001b[0m\u001b[1;33m\u001b[0m\u001b[0m\n\u001b[0m\u001b[0;32m    737\u001b[0m         return (safe_sparse_dot(X, self.feature_log_prob_.T) +\n\u001b[0;32m    738\u001b[0m                 self.class_log_prior_)\n",
      "\u001b[1;32m~\\AppData\\Roaming\\Python\\Python37\\site-packages\\sklearn\\utils\\validation.py\u001b[0m in \u001b[0;36mcheck_array\u001b[1;34m(array, accept_sparse, accept_large_sparse, dtype, order, copy, force_all_finite, ensure_2d, allow_nd, ensure_min_samples, ensure_min_features, warn_on_dtype, estimator)\u001b[0m\n\u001b[0;32m    494\u001b[0m             \u001b[1;32mtry\u001b[0m\u001b[1;33m:\u001b[0m\u001b[1;33m\u001b[0m\u001b[1;33m\u001b[0m\u001b[0m\n\u001b[0;32m    495\u001b[0m                 \u001b[0mwarnings\u001b[0m\u001b[1;33m.\u001b[0m\u001b[0msimplefilter\u001b[0m\u001b[1;33m(\u001b[0m\u001b[1;34m'error'\u001b[0m\u001b[1;33m,\u001b[0m \u001b[0mComplexWarning\u001b[0m\u001b[1;33m)\u001b[0m\u001b[1;33m\u001b[0m\u001b[1;33m\u001b[0m\u001b[0m\n\u001b[1;32m--> 496\u001b[1;33m                 \u001b[0marray\u001b[0m \u001b[1;33m=\u001b[0m \u001b[0mnp\u001b[0m\u001b[1;33m.\u001b[0m\u001b[0masarray\u001b[0m\u001b[1;33m(\u001b[0m\u001b[0marray\u001b[0m\u001b[1;33m,\u001b[0m \u001b[0mdtype\u001b[0m\u001b[1;33m=\u001b[0m\u001b[0mdtype\u001b[0m\u001b[1;33m,\u001b[0m \u001b[0morder\u001b[0m\u001b[1;33m=\u001b[0m\u001b[0morder\u001b[0m\u001b[1;33m)\u001b[0m\u001b[1;33m\u001b[0m\u001b[1;33m\u001b[0m\u001b[0m\n\u001b[0m\u001b[0;32m    497\u001b[0m             \u001b[1;32mexcept\u001b[0m \u001b[0mComplexWarning\u001b[0m\u001b[1;33m:\u001b[0m\u001b[1;33m\u001b[0m\u001b[1;33m\u001b[0m\u001b[0m\n\u001b[0;32m    498\u001b[0m                 raise ValueError(\"Complex data not supported\\n\"\n",
      "\u001b[1;32m~\\AppData\\Roaming\\Python\\Python37\\site-packages\\numpy\\core\\_asarray.py\u001b[0m in \u001b[0;36masarray\u001b[1;34m(a, dtype, order)\u001b[0m\n\u001b[0;32m     83\u001b[0m \u001b[1;33m\u001b[0m\u001b[0m\n\u001b[0;32m     84\u001b[0m     \"\"\"\n\u001b[1;32m---> 85\u001b[1;33m     \u001b[1;32mreturn\u001b[0m \u001b[0marray\u001b[0m\u001b[1;33m(\u001b[0m\u001b[0ma\u001b[0m\u001b[1;33m,\u001b[0m \u001b[0mdtype\u001b[0m\u001b[1;33m,\u001b[0m \u001b[0mcopy\u001b[0m\u001b[1;33m=\u001b[0m\u001b[1;32mFalse\u001b[0m\u001b[1;33m,\u001b[0m \u001b[0morder\u001b[0m\u001b[1;33m=\u001b[0m\u001b[0morder\u001b[0m\u001b[1;33m)\u001b[0m\u001b[1;33m\u001b[0m\u001b[1;33m\u001b[0m\u001b[0m\n\u001b[0m\u001b[0;32m     86\u001b[0m \u001b[1;33m\u001b[0m\u001b[0m\n\u001b[0;32m     87\u001b[0m \u001b[1;33m\u001b[0m\u001b[0m\n",
      "\u001b[1;32m~\\AppData\\Roaming\\Python\\Python37\\site-packages\\pandas\\core\\series.py\u001b[0m in \u001b[0;36m__array__\u001b[1;34m(self, dtype)\u001b[0m\n\u001b[0;32m    946\u001b[0m             \u001b[0mwarnings\u001b[0m\u001b[1;33m.\u001b[0m\u001b[0mwarn\u001b[0m\u001b[1;33m(\u001b[0m\u001b[0mmsg\u001b[0m\u001b[1;33m,\u001b[0m \u001b[0mFutureWarning\u001b[0m\u001b[1;33m,\u001b[0m \u001b[0mstacklevel\u001b[0m\u001b[1;33m=\u001b[0m\u001b[1;36m3\u001b[0m\u001b[1;33m)\u001b[0m\u001b[1;33m\u001b[0m\u001b[1;33m\u001b[0m\u001b[0m\n\u001b[0;32m    947\u001b[0m             \u001b[0mdtype\u001b[0m \u001b[1;33m=\u001b[0m \u001b[1;34m\"M8[ns]\"\u001b[0m\u001b[1;33m\u001b[0m\u001b[1;33m\u001b[0m\u001b[0m\n\u001b[1;32m--> 948\u001b[1;33m         \u001b[1;32mreturn\u001b[0m \u001b[0mnp\u001b[0m\u001b[1;33m.\u001b[0m\u001b[0masarray\u001b[0m\u001b[1;33m(\u001b[0m\u001b[0mself\u001b[0m\u001b[1;33m.\u001b[0m\u001b[0marray\u001b[0m\u001b[1;33m,\u001b[0m \u001b[0mdtype\u001b[0m\u001b[1;33m)\u001b[0m\u001b[1;33m\u001b[0m\u001b[1;33m\u001b[0m\u001b[0m\n\u001b[0m\u001b[0;32m    949\u001b[0m \u001b[1;33m\u001b[0m\u001b[0m\n\u001b[0;32m    950\u001b[0m     \u001b[1;31m# ----------------------------------------------------------------------\u001b[0m\u001b[1;33m\u001b[0m\u001b[1;33m\u001b[0m\u001b[1;33m\u001b[0m\u001b[0m\n",
      "\u001b[1;32m~\\AppData\\Roaming\\Python\\Python37\\site-packages\\numpy\\core\\_asarray.py\u001b[0m in \u001b[0;36masarray\u001b[1;34m(a, dtype, order)\u001b[0m\n\u001b[0;32m     83\u001b[0m \u001b[1;33m\u001b[0m\u001b[0m\n\u001b[0;32m     84\u001b[0m     \"\"\"\n\u001b[1;32m---> 85\u001b[1;33m     \u001b[1;32mreturn\u001b[0m \u001b[0marray\u001b[0m\u001b[1;33m(\u001b[0m\u001b[0ma\u001b[0m\u001b[1;33m,\u001b[0m \u001b[0mdtype\u001b[0m\u001b[1;33m,\u001b[0m \u001b[0mcopy\u001b[0m\u001b[1;33m=\u001b[0m\u001b[1;32mFalse\u001b[0m\u001b[1;33m,\u001b[0m \u001b[0morder\u001b[0m\u001b[1;33m=\u001b[0m\u001b[0morder\u001b[0m\u001b[1;33m)\u001b[0m\u001b[1;33m\u001b[0m\u001b[1;33m\u001b[0m\u001b[0m\n\u001b[0m\u001b[0;32m     86\u001b[0m \u001b[1;33m\u001b[0m\u001b[0m\n\u001b[0;32m     87\u001b[0m \u001b[1;33m\u001b[0m\u001b[0m\n",
      "\u001b[1;32m~\\AppData\\Roaming\\Python\\Python37\\site-packages\\pandas\\core\\arrays\\numpy_.py\u001b[0m in \u001b[0;36m__array__\u001b[1;34m(self, dtype)\u001b[0m\n\u001b[0;32m    164\u001b[0m \u001b[1;33m\u001b[0m\u001b[0m\n\u001b[0;32m    165\u001b[0m     \u001b[1;32mdef\u001b[0m \u001b[0m__array__\u001b[0m\u001b[1;33m(\u001b[0m\u001b[0mself\u001b[0m\u001b[1;33m,\u001b[0m \u001b[0mdtype\u001b[0m\u001b[1;33m=\u001b[0m\u001b[1;32mNone\u001b[0m\u001b[1;33m)\u001b[0m\u001b[1;33m:\u001b[0m\u001b[1;33m\u001b[0m\u001b[1;33m\u001b[0m\u001b[0m\n\u001b[1;32m--> 166\u001b[1;33m         \u001b[1;32mreturn\u001b[0m \u001b[0mnp\u001b[0m\u001b[1;33m.\u001b[0m\u001b[0masarray\u001b[0m\u001b[1;33m(\u001b[0m\u001b[0mself\u001b[0m\u001b[1;33m.\u001b[0m\u001b[0m_ndarray\u001b[0m\u001b[1;33m,\u001b[0m \u001b[0mdtype\u001b[0m\u001b[1;33m=\u001b[0m\u001b[0mdtype\u001b[0m\u001b[1;33m)\u001b[0m\u001b[1;33m\u001b[0m\u001b[1;33m\u001b[0m\u001b[0m\n\u001b[0m\u001b[0;32m    167\u001b[0m \u001b[1;33m\u001b[0m\u001b[0m\n\u001b[0;32m    168\u001b[0m     \u001b[0m_HANDLED_TYPES\u001b[0m \u001b[1;33m=\u001b[0m \u001b[1;33m(\u001b[0m\u001b[0mnp\u001b[0m\u001b[1;33m.\u001b[0m\u001b[0mndarray\u001b[0m\u001b[1;33m,\u001b[0m \u001b[0mnumbers\u001b[0m\u001b[1;33m.\u001b[0m\u001b[0mNumber\u001b[0m\u001b[1;33m)\u001b[0m\u001b[1;33m\u001b[0m\u001b[1;33m\u001b[0m\u001b[0m\n",
      "\u001b[1;32m~\\AppData\\Roaming\\Python\\Python37\\site-packages\\numpy\\core\\_asarray.py\u001b[0m in \u001b[0;36masarray\u001b[1;34m(a, dtype, order)\u001b[0m\n\u001b[0;32m     83\u001b[0m \u001b[1;33m\u001b[0m\u001b[0m\n\u001b[0;32m     84\u001b[0m     \"\"\"\n\u001b[1;32m---> 85\u001b[1;33m     \u001b[1;32mreturn\u001b[0m \u001b[0marray\u001b[0m\u001b[1;33m(\u001b[0m\u001b[0ma\u001b[0m\u001b[1;33m,\u001b[0m \u001b[0mdtype\u001b[0m\u001b[1;33m,\u001b[0m \u001b[0mcopy\u001b[0m\u001b[1;33m=\u001b[0m\u001b[1;32mFalse\u001b[0m\u001b[1;33m,\u001b[0m \u001b[0morder\u001b[0m\u001b[1;33m=\u001b[0m\u001b[0morder\u001b[0m\u001b[1;33m)\u001b[0m\u001b[1;33m\u001b[0m\u001b[1;33m\u001b[0m\u001b[0m\n\u001b[0m\u001b[0;32m     86\u001b[0m \u001b[1;33m\u001b[0m\u001b[0m\n\u001b[0;32m     87\u001b[0m \u001b[1;33m\u001b[0m\u001b[0m\n",
      "\u001b[1;31mValueError\u001b[0m: could not convert string to float: '\":\"In 1971 Goodman and Rose predicted the occurrence of a fundamental electrostatic limit for the photocurrent in semiconductors at high light intensities. Blends of conjugated polymers and fullerenes are an ideal model system to observe this space-charge limit experimentally, since they combine an unbalanced charge transport, long lifetimes, high charge carrier generation efficiencies, and low mobility of the slowest charge carrier. The experimental photocurrents reveal all the characteristics of a space-charge limited photocurrent: a one-half power dependence on voltage, a three-quarter power dependence on light intensity, and a one-half power scaling of the voltage at which the photocurrent switches into full saturation with light intensity.\",\"author\":['"
     ]
    }
   ],
   "source": [
    "#Use our predicted categories by running classifer on all data\n",
    "# Then split again\n",
    "\n",
    "nb.fit(papers[\"Abstract\"], papers[\"Field\"])\n",
    "pred_class = nb.predict(papers[\"Abstract\"])\n",
    "pred_class"
   ]
  },
  {
   "cell_type": "code",
   "execution_count": 20,
   "metadata": {},
   "outputs": [
    {
     "ename": "NameError",
     "evalue": "name 'LatentDirichletAllocation' is not defined",
     "output_type": "error",
     "traceback": [
      "\u001b[1;31m---------------------------------------------------------------------------\u001b[0m",
      "\u001b[1;31mNameError\u001b[0m                                 Traceback (most recent call last)",
      "\u001b[1;32m<ipython-input-20-68629b435759>\u001b[0m in \u001b[0;36m<module>\u001b[1;34m\u001b[0m\n\u001b[0;32m      6\u001b[0m                                                          \u001b[0mmax_df\u001b[0m\u001b[1;33m=\u001b[0m\u001b[1;36m0.5\u001b[0m\u001b[1;33m,\u001b[0m\u001b[1;33m\u001b[0m\u001b[1;33m\u001b[0m\u001b[0m\n\u001b[0;32m      7\u001b[0m                                                          \u001b[0mmax_feats\u001b[0m\u001b[1;33m=\u001b[0m\u001b[1;36m2000\u001b[0m\u001b[1;33m,\u001b[0m\u001b[1;33m\u001b[0m\u001b[1;33m\u001b[0m\u001b[0m\n\u001b[1;32m----> 8\u001b[1;33m                                                          random_state=42)\n\u001b[0m\u001b[0;32m      9\u001b[0m \u001b[1;31m#So need to do this for training data, for each of the 4 categories as categorized by our previous step\u001b[0m\u001b[1;33m\u001b[0m\u001b[1;33m\u001b[0m\u001b[1;33m\u001b[0m\u001b[0m\n",
      "\u001b[1;32m<ipython-input-12-e57d16c5347d>\u001b[0m in \u001b[0;36mtopic_mod_lda\u001b[1;34m(data, topics, iters, ngram_min, ngram_max, max_df, max_feats, random_state)\u001b[0m\n\u001b[0;32m     17\u001b[0m \u001b[1;33m\u001b[0m\u001b[0m\n\u001b[0;32m     18\u001b[0m \u001b[1;33m\u001b[0m\u001b[0m\n\u001b[1;32m---> 19\u001b[1;33m     lda = LatentDirichletAllocation(n_components=topics,\n\u001b[0m\u001b[0;32m     20\u001b[0m                                     \u001b[0mmax_iter\u001b[0m\u001b[1;33m=\u001b[0m\u001b[0miters\u001b[0m\u001b[1;33m,\u001b[0m\u001b[1;33m\u001b[0m\u001b[1;33m\u001b[0m\u001b[0m\n\u001b[0;32m     21\u001b[0m                                     \u001b[0mrandom_state\u001b[0m\u001b[1;33m=\u001b[0m\u001b[0mrandom_state\u001b[0m\u001b[1;33m,\u001b[0m\u001b[1;33m\u001b[0m\u001b[1;33m\u001b[0m\u001b[0m\n",
      "\u001b[1;31mNameError\u001b[0m: name 'LatentDirichletAllocation' is not defined"
     ]
    }
   ],
   "source": [
    "vect_mod, vect_data, lda_mod, lda_data = topic_mod_lda(papers[\"Abstract\"],\n",
    "                                                         topics=20,\n",
    "                                                         iters=50,\n",
    "                                                         ngram_min=1, \n",
    "                                                         ngram_max=2, \n",
    "                                                         max_df=0.5, \n",
    "                                                         max_feats=2000,\n",
    "                                                         random_state=42)\n",
    "#So need to do this for training data, for each of the 4 categories as categorized by our previous step"
   ]
  },
  {
   "cell_type": "code",
   "execution_count": null,
   "metadata": {},
   "outputs": [],
   "source": [
    "#Topic modelling: \n",
    "cm = confusion_matrix(y_test, Y_pred)\n",
    "fig = plt.figure(figsize=(8, 8))\n",
    "plot = plot_confusion_matrix(cm, classes=['Non','Transfused'], normalize=False)\n",
    "plt.savefig(path + path2 + \"NB_confusion_matrix.svg\")\n",
    "plt.show()\n",
    "print(cm)"
   ]
  },
  {
   "cell_type": "code",
   "execution_count": null,
   "metadata": {},
   "outputs": [],
   "source": [
    "#y_pred_class\n",
    "\n",
    "# print(metrics.accuracy_score(papers[\"Field\"], y_pred_class_first))"
   ]
  },
  {
   "cell_type": "code",
   "execution_count": null,
   "metadata": {},
   "outputs": [],
   "source": []
  },
  {
   "cell_type": "code",
   "execution_count": null,
   "metadata": {},
   "outputs": [],
   "source": []
  },
  {
   "cell_type": "code",
   "execution_count": null,
   "metadata": {},
   "outputs": [],
   "source": []
  },
  {
   "cell_type": "code",
   "execution_count": null,
   "metadata": {},
   "outputs": [],
   "source": []
  },
  {
   "cell_type": "code",
   "execution_count": null,
   "metadata": {},
   "outputs": [],
   "source": []
  }
 ],
 "metadata": {
  "kernelspec": {
   "display_name": "Python 3",
   "language": "python",
   "name": "python3"
  },
  "language_info": {
   "codemirror_mode": {
    "name": "ipython",
    "version": 3
   },
   "file_extension": ".py",
   "mimetype": "text/x-python",
   "name": "python",
   "nbconvert_exporter": "python",
   "pygments_lexer": "ipython3",
   "version": "3.7.4"
  }
 },
 "nbformat": 4,
 "nbformat_minor": 2
}
